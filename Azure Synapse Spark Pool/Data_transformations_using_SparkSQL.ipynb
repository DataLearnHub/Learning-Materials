{
  "cells": [
    {
      "cell_type": "markdown",
      "source": [
        "#### Create Database"
      ],
      "metadata": {
        "nteract": {
          "transient": {
            "deleting": false
          }
        }
      }
    },
    {
      "cell_type": "code",
      "source": [
        "CREATE DATABASE IF NOT EXISTS SalesDB_spark"
      ],
      "outputs": [],
      "execution_count": null,
      "metadata": {
        "collapsed": false
      }
    },
    {
      "cell_type": "markdown",
      "source": [
        "#### Create Table"
      ],
      "metadata": {
        "nteract": {
          "transient": {
            "deleting": false
          }
        }
      }
    },
    {
      "cell_type": "code",
      "source": [
        "CREATE TABLE IF NOT EXISTS SalesDB_spark.SalesEx\n",
        "(\n",
        "    SalesOrderNumber STRING,\n",
        "    SalesOrderLineNumber INT,\n",
        "    OrderDate DATE,\n",
        "    CustomerName STRING,\n",
        "    Email STRING,\n",
        "    Item STRING,\n",
        "    Quantity INT,\n",
        "    UnitPrice FLOAT,\n",
        "    Tax FLOAT\n",
        ") \n",
        "USING PARQUET\n",
        "LOCATION 'abfss://data@synapsedp203dl.dfs.core.windows.net/sales/transformed/SparkSQL/Sales'\n"
      ],
      "outputs": [],
      "execution_count": null,
      "metadata": {
        "jupyter": {
          "source_hidden": false,
          "outputs_hidden": false
        },
        "nteract": {
          "transient": {
            "deleting": false
          }
        },
        "microsoft": {},
        "collapsed": false
      }
    },
    {
      "cell_type": "code",
      "source": [
        "CREATE TABLE IF NOT EXISTS SalesDB_spark.SalesMn\n",
        "(\n",
        "    SalesOrderNumber STRING,\n",
        "    SalesOrderLineNumber INT,\n",
        "    OrderDate DATE,\n",
        "    CustomerName STRING,\n",
        "    Email STRING,\n",
        "    Item STRING,\n",
        "    Quantity INT,\n",
        "    UnitPrice FLOAT,\n",
        "    Tax FLOAT\n",
        ") \n",
        "USING PARQUET"
      ],
      "outputs": [],
      "execution_count": null,
      "metadata": {
        "jupyter": {
          "source_hidden": false,
          "outputs_hidden": false
        },
        "nteract": {
          "transient": {
            "deleting": false
          }
        },
        "collapsed": false
      }
    },
    {
      "cell_type": "markdown",
      "source": [
        "#### Insert Data into the Table"
      ],
      "metadata": {
        "nteract": {
          "transient": {
            "deleting": false
          }
        }
      }
    },
    {
      "cell_type": "code",
      "source": [
        "INSERT INTO SalesDB_spark.SalesEx\n",
        "\n",
        "VALUES\n",
        "(\n",
        "    'SO12345',\n",
        "    1,\n",
        "    date'2024-01-16',\n",
        "    'John Doe',\n",
        "    'john.doe@example.com',\n",
        "    'ProductA',\n",
        "    10,\n",
        "    19.99,\n",
        "    2.5\n",
        ");\n",
        "\n",
        "\n"
      ],
      "outputs": [],
      "execution_count": null,
      "metadata": {
        "jupyter": {
          "source_hidden": false,
          "outputs_hidden": false
        },
        "nteract": {
          "transient": {
            "deleting": false
          }
        },
        "collapsed": false
      }
    },
    {
      "cell_type": "code",
      "source": [
        "INSERT INTO SalesDB_spark.SalesMn\n",
        "\n",
        "VALUES\n",
        "(\n",
        "    'SO12345',\n",
        "    1,\n",
        "    date'2024-01-16',\n",
        "    'John Doe',\n",
        "    'john.doe@example.com',\n",
        "    'ProductA',\n",
        "    10,\n",
        "    19.99,\n",
        "    2.5\n",
        ");"
      ],
      "outputs": [],
      "execution_count": null,
      "metadata": {
        "jupyter": {
          "source_hidden": false,
          "outputs_hidden": false
        },
        "nteract": {
          "transient": {
            "deleting": false
          }
        },
        "collapsed": false
      }
    },
    {
      "cell_type": "markdown",
      "source": [
        "#### Read data from the Table"
      ],
      "metadata": {
        "nteract": {
          "transient": {
            "deleting": false
          }
        }
      }
    },
    {
      "cell_type": "code",
      "source": [
        "SELECT * from SalesDB_spark.SalesEx"
      ],
      "outputs": [],
      "execution_count": null,
      "metadata": {
        "jupyter": {
          "source_hidden": false,
          "outputs_hidden": false
        },
        "nteract": {
          "transient": {
            "deleting": false
          }
        },
        "collapsed": false
      }
    },
    {
      "cell_type": "code",
      "source": [
        "SELECT * from SalesDB_spark.SalesMn"
      ],
      "outputs": [],
      "execution_count": null,
      "metadata": {
        "jupyter": {
          "source_hidden": false,
          "outputs_hidden": false
        },
        "nteract": {
          "transient": {
            "deleting": false
          }
        },
        "collapsed": false
      }
    },
    {
      "cell_type": "markdown",
      "source": [
        "#### Read data from File"
      ],
      "metadata": {
        "nteract": {
          "transient": {
            "deleting": false
          }
        }
      }
    },
    {
      "cell_type": "code",
      "source": [
        "%%pyspark\n",
        "\n",
        "read_df = spark.read.load('abfss://data@synapsedp203dl.dfs.core.windows.net/sales/transformed/SparkSQL/Sales', format='parquet', header = True) \n",
        "display(read_df)"
      ],
      "outputs": [],
      "execution_count": null,
      "metadata": {
        "jupyter": {
          "source_hidden": false,
          "outputs_hidden": false
        },
        "nteract": {
          "transient": {
            "deleting": false
          }
        },
        "microsoft": {
          "language": "python"
        },
        "collapsed": false
      }
    },
    {
      "cell_type": "markdown",
      "source": [
        "### Data Transformations using SparkSQL"
      ],
      "metadata": {
        "nteract": {
          "transient": {
            "deleting": false
          }
        }
      }
    },
    {
      "cell_type": "markdown",
      "source": [
        "#### Create Orders Table"
      ],
      "metadata": {
        "nteract": {
          "transient": {
            "deleting": false
          }
        }
      }
    },
    {
      "cell_type": "code",
      "source": [
        "%%pyspark\n",
        "\n",
        "from pyspark.sql.types import *\n",
        "from pyspark.sql.functions import *\n",
        "\n",
        "orderSchema = StructType([\n",
        "    StructField(\"SalesOrderNumber\", StringType()),\n",
        "    StructField(\"SalesOrderLineNumber\", IntegerType()),\n",
        "    StructField(\"OrderDate\", DateType()),\n",
        "    StructField(\"CustomerName\", StringType()),\n",
        "    StructField(\"Email\", StringType()),\n",
        "    StructField(\"Item\", StringType()),\n",
        "    StructField(\"Quantity\", IntegerType()),\n",
        "    StructField(\"UnitPrice\", FloatType()),\n",
        "    StructField(\"Tax\", FloatType())\n",
        "    ])\n",
        "\n",
        "df = spark.read.load('abfss://data@synapsedp203dl.dfs.core.windows.net/sales/*.csv', format='csv', schema=orderSchema, header = True)"
      ],
      "outputs": [],
      "execution_count": null,
      "metadata": {
        "jupyter": {
          "source_hidden": false,
          "outputs_hidden": false
        },
        "nteract": {
          "transient": {
            "deleting": false
          }
        },
        "microsoft": {
          "language": "python"
        }
      }
    },
    {
      "cell_type": "code",
      "source": [
        "%%pyspark\n",
        "\n",
        "df.write.saveAsTable('SalesDB_spark.Orders', format='parquet', mode='overwrite', path='abfss://data@synapsedp203dl.dfs.core.windows.net/sales/transformed/SparkSQL/Orders')\n",
        "print (\"Transformed data saved!\")"
      ],
      "outputs": [],
      "execution_count": null,
      "metadata": {
        "jupyter": {
          "source_hidden": false,
          "outputs_hidden": false
        },
        "nteract": {
          "transient": {
            "deleting": false
          }
        },
        "microsoft": {
          "language": "python"
        }
      }
    },
    {
      "cell_type": "markdown",
      "source": [
        "#### Create Product Table from the Orders Table"
      ],
      "metadata": {
        "nteract": {
          "transient": {
            "deleting": false
          }
        }
      }
    },
    {
      "cell_type": "code",
      "source": [
        "CREATE TABLE SalesDB_spark.Product \n",
        "            USING PARQUET \n",
        "            LOCATION 'abfss://data@synapsedp203dl.dfs.core.windows.net/sales/transformed/SparkSQL/Product'\n",
        "\n",
        "AS \n",
        "    SELECT \n",
        "        Item, \n",
        "        sum(Quantity) AS Total_Quantity, \n",
        "        sum(Quantity * UnitPrice) AS Total_Sales\n",
        "    FROM SalesDB_spark.Orders\n",
        "    GROUP BY Item\n",
        "\n"
      ],
      "outputs": [],
      "execution_count": null,
      "metadata": {
        "jupyter": {
          "source_hidden": false,
          "outputs_hidden": false
        },
        "nteract": {
          "transient": {
            "deleting": false
          }
        },
        "collapsed": false
      }
    },
    {
      "cell_type": "code",
      "source": [
        "SELECT * FROM SalesDB_spark.Product"
      ],
      "outputs": [],
      "execution_count": null,
      "metadata": {
        "jupyter": {
          "source_hidden": false,
          "outputs_hidden": false
        },
        "nteract": {
          "transient": {
            "deleting": false
          }
        },
        "collapsed": false
      }
    },
    {
      "cell_type": "markdown",
      "source": [
        "#### Create MonthlySales Table with Partitioning"
      ],
      "metadata": {
        "nteract": {
          "transient": {
            "deleting": false
          }
        }
      }
    },
    {
      "cell_type": "code",
      "source": [
        "CREATE TABLE SalesDB_spark.MonthlySales \n",
        "            USING PARQUET \n",
        "            PARTITIONED BY (Year, Month)\n",
        "            LOCATION 'abfss://data@synapsedp203dl.dfs.core.windows.net/sales/transformed/SparkSQL/MonthlySales'\n",
        "\n",
        "AS \n",
        "\n",
        "SELECT \n",
        "        YEAR(OrderDate) AS Year, \n",
        "        MONTH(OrderDate) AS Month,\n",
        "        SalesOrderNumber,\n",
        "        sum(Quantity * UnitPrice) AS Total_Sales\n",
        "\n",
        "FROM SalesDB_spark.Orders\n",
        "GROUP BY YEAR(OrderDate), MONTH(OrderDate), SalesOrderNumber\n",
        "ORDER BY YEAR(OrderDate), MONTH(OrderDate), SalesOrderNumber"
      ],
      "outputs": [],
      "execution_count": null,
      "metadata": {
        "jupyter": {
          "source_hidden": false,
          "outputs_hidden": false
        },
        "nteract": {
          "transient": {
            "deleting": false
          }
        },
        "collapsed": false
      }
    },
    {
      "cell_type": "code",
      "source": [
        "SELECT * FROM SalesDB_spark.MonthlySales"
      ],
      "outputs": [],
      "execution_count": null,
      "metadata": {
        "jupyter": {
          "source_hidden": false,
          "outputs_hidden": false
        },
        "nteract": {
          "transient": {
            "deleting": false
          }
        },
        "collapsed": false
      }
    },
    {
      "cell_type": "code",
      "source": [
        "%%pyspark\n",
        "\n",
        "monthly_df = spark.read.load('abfss://data@synapsedp203dl.dfs.core.windows.net/sales/transformed/SparkSQL/MonthlySales/Year=2020/Month=4', format='parquet', header = True) \n",
        "display(monthly_df)"
      ],
      "outputs": [],
      "execution_count": null,
      "metadata": {
        "jupyter": {
          "source_hidden": false,
          "outputs_hidden": false
        },
        "nteract": {
          "transient": {
            "deleting": false
          }
        },
        "microsoft": {
          "language": "python"
        },
        "collapsed": false
      }
    }
  ],
  "metadata": {
    "kernelspec": {
      "name": "synapse_sparksql",
      "display_name": "sql"
    },
    "language_info": {
      "name": "sql"
    },
    "description": null,
    "save_output": true,
    "synapse_widget": {
      "version": "0.1",
      "state": {}
    }
  },
  "nbformat": 4,
  "nbformat_minor": 2
}