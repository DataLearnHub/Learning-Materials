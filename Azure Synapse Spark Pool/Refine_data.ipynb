{
  "cells": [
    {
      "cell_type": "code",
      "source": [
        "pm_OrderDate = \"\""
      ],
      "outputs": [],
      "execution_count": null,
      "metadata": {
        "jupyter": {
          "source_hidden": false,
          "outputs_hidden": false
        },
        "nteract": {
          "transient": {
            "deleting": false
          }
        },
        "tags": [
          "parameters"
        ]
      }
    },
    {
      "cell_type": "code",
      "source": [
        "from pyspark.sql.types import *\n",
        "from pyspark.sql.functions import *\n",
        "\n",
        "orderSchema = StructType([\n",
        "    StructField(\"SalesOrderNumber\", StringType()),\n",
        "    StructField(\"SalesOrderLineNumber\", IntegerType()),\n",
        "    StructField(\"OrderDate\", DateType()),\n",
        "    StructField(\"CustomerName\", StringType()),\n",
        "    StructField(\"Email\", StringType()),\n",
        "    StructField(\"Item\", StringType()),\n",
        "    StructField(\"Quantity\", IntegerType()),\n",
        "    StructField(\"UnitPrice\", FloatType()),\n",
        "    StructField(\"Tax\", FloatType())\n",
        "    ])\n",
        "\n",
        "df = spark.read.load(f'abfss://datalakehouse@synapsedp203dl.dfs.core.windows.net/raw/salesdata_{pm_OrderDate}.csv', format='csv', schema=orderSchema, header = True)\n",
        "  "
      ],
      "outputs": [],
      "execution_count": null,
      "metadata": {}
    },
    {
      "cell_type": "code",
      "source": [
        "customers = df['CustomerName', 'Email', 'OrderDate']"
      ],
      "outputs": [],
      "execution_count": null,
      "metadata": {
        "jupyter": {
          "source_hidden": false,
          "outputs_hidden": false
        },
        "nteract": {
          "transient": {
            "deleting": false
          }
        }
      }
    },
    {
      "cell_type": "code",
      "source": [
        "from pyspark.sql.functions import split, col\n",
        "\n",
        "# Create the new FirstName and LastName fields\n",
        "customer_data_df = customers.withColumn(\"FirstName\", split(col(\"CustomerName\"), \" \").getItem(0)).withColumn(\"LastName\", split(col(\"CustomerName\"), \" \").getItem(1))\n",
        "\n",
        "# Remove the CustomerName field\n",
        "customer_data_df = customer_data_df.drop(\"CustomerName\")\n",
        "\n",
        "display(customer_data_df)"
      ],
      "outputs": [],
      "execution_count": null,
      "metadata": {
        "jupyter": {
          "source_hidden": false,
          "outputs_hidden": false
        },
        "nteract": {
          "transient": {
            "deleting": false
          }
        },
        "collapsed": false
      }
    },
    {
      "cell_type": "code",
      "source": [
        "customer_data_df = customer_data_df.select('FirstName','LastName','Email', 'OrderDate')\n",
        "display(customer_data_df)"
      ],
      "outputs": [],
      "execution_count": null,
      "metadata": {
        "jupyter": {
          "source_hidden": false,
          "outputs_hidden": false
        },
        "nteract": {
          "transient": {
            "deleting": false
          }
        },
        "collapsed": false
      }
    },
    {
      "cell_type": "code",
      "source": [
        "customer_data_df.write.mode(\"overwrite\").partitionBy(\"OrderDate\").format(\"delta\").option(\"path\", \"abfss://datalakehouse@synapsedp203dl.dfs.core.windows.net/refined/Customers\").save()\n",
        "print (\"Transformed data saved!\")"
      ],
      "outputs": [],
      "execution_count": null,
      "metadata": {
        "jupyter": {
          "source_hidden": false,
          "outputs_hidden": false
        },
        "nteract": {
          "transient": {
            "deleting": false
          }
        }
      }
    },
    {
      "cell_type": "markdown",
      "source": [
        "##### Transformations for Product data"
      ],
      "metadata": {
        "nteract": {
          "transient": {
            "deleting": false
          }
        }
      }
    },
    {
      "cell_type": "code",
      "source": [
        "df_products = df.select(\"OrderDate\", \"Item\", \"Quantity\", \"UnitPrice\", \"Tax\")"
      ],
      "outputs": [],
      "execution_count": null,
      "metadata": {
        "jupyter": {
          "source_hidden": false,
          "outputs_hidden": false
        },
        "nteract": {
          "transient": {
            "deleting": false
          }
        }
      }
    },
    {
      "cell_type": "code",
      "source": [
        "productSales = df_products.withColumn(\"GrossSales\", df_products[\"Quantity\"]*df_products[\"UnitPrice\"])\\\n",
        ".withColumn(\"NetSales\",(df_products[\"Quantity\"]*df_products[\"UnitPrice\"]) - df_products[\"Tax\"])\\\n",
        ".groupBy(\"OrderDate\", \"Item\")\\\n",
        ".agg(sum(\"Quantity\").alias(\"TotalQuantity\"),sum(\"GrossSales\").alias(\"Gross_Sales\"), sum(\"NetSales\").alias(\"Net_Sales\"))\n",
        "display(productSales)"
      ],
      "outputs": [],
      "execution_count": null,
      "metadata": {
        "jupyter": {
          "source_hidden": false,
          "outputs_hidden": false
        },
        "nteract": {
          "transient": {
            "deleting": false
          }
        },
        "collapsed": false
      }
    },
    {
      "cell_type": "code",
      "source": [
        "productSales = productSales.select(\"OrderDate\", \"Item\", \"TotalQuantity\",round(\"Gross_Sales\", 2).alias('Gross_Sales'),round(\"Net_Sales\", 2).alias('Net_Sales'))"
      ],
      "outputs": [],
      "execution_count": null,
      "metadata": {
        "jupyter": {
          "source_hidden": false,
          "outputs_hidden": false
        },
        "nteract": {
          "transient": {
            "deleting": false
          }
        }
      }
    },
    {
      "cell_type": "code",
      "source": [
        "display(productSales)"
      ],
      "outputs": [],
      "execution_count": null,
      "metadata": {
        "jupyter": {
          "source_hidden": false,
          "outputs_hidden": false
        },
        "nteract": {
          "transient": {
            "deleting": false
          }
        },
        "collapsed": false
      }
    },
    {
      "cell_type": "code",
      "source": [
        "productSales.write.mode(\"overwrite\").partitionBy(\"OrderDate\").format(\"delta\").option(\"path\", \"abfss://datalakehouse@synapsedp203dl.dfs.core.windows.net/refined/ProductSales\").save()\n",
        "print (\"Transformed data saved!\")"
      ],
      "outputs": [],
      "execution_count": null,
      "metadata": {
        "jupyter": {
          "source_hidden": false,
          "outputs_hidden": false
        },
        "nteract": {
          "transient": {
            "deleting": false
          }
        }
      }
    }
  ],
  "metadata": {
    "kernelspec": {
      "name": "synapse_pyspark",
      "display_name": "Synapse PySpark"
    },
    "language_info": {
      "name": "python"
    },
    "description": null,
    "save_output": true,
    "synapse_widget": {
      "version": "0.1",
      "state": {}
    }
  },
  "nbformat": 4,
  "nbformat_minor": 2
}