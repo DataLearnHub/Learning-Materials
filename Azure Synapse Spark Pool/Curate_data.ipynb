{
  "cells": [
    {
      "cell_type": "code",
      "source": [
        "pm_OrderDate = \"\""
      ],
      "outputs": [],
      "execution_count": null,
      "metadata": {
        "jupyter": {
          "source_hidden": false,
          "outputs_hidden": false
        },
        "nteract": {
          "transient": {
            "deleting": false
          }
        },
        "tags": [
          "parameters"
        ]
      }
    },
    {
      "cell_type": "code",
      "source": [
        "path_to_data = f'abfss://datalakehouse@synapsedp203dl.dfs.core.windows.net/refined/Customers/OrderDate={pm_OrderDate}'\n",
        "customer_src_df = spark.read.format(\"delta\").load(path_to_data)\n",
        "display(customer_src_df)"
      ],
      "outputs": [],
      "execution_count": null,
      "metadata": {
        "jupyter": {
          "outputs_hidden": false,
          "source_hidden": false
        },
        "nteract": {
          "transient": {
            "deleting": false
          }
        },
        "collapsed": false
      }
    },
    {
      "cell_type": "code",
      "source": [
        "from delta.tables import *\n",
        "\n",
        "deltaTableCustomers = DeltaTable.forPath(spark, 'abfss://datalakehouse@synapsedp203dl.dfs.core.windows.net/curated/Customers')\n",
        "\n",
        "deltaTableCustomers.alias(\"tgt\") \\\n",
        "  .merge(customer_src_df.alias(\"src\"), \"src.FirstName = tgt.FirstName AND src.LastName = tgt.LastName\")\\\n",
        "  .whenMatchedUpdateAll()\\\n",
        "  .whenNotMatchedInsertAll()\\\n",
        "  .execute()"
      ],
      "outputs": [],
      "execution_count": null,
      "metadata": {
        "jupyter": {
          "outputs_hidden": false,
          "source_hidden": false
        },
        "nteract": {
          "transient": {
            "deleting": false
          }
        }
      }
    },
    {
      "cell_type": "code",
      "source": [
        "path_to_data = f'abfss://datalakehouse@synapsedp203dl.dfs.core.windows.net/refined/ProductSales/OrderDate={pm_OrderDate}'\n",
        "product_src_df = spark.read.format(\"delta\").load(path_to_data)\n",
        "display(product_src_df)"
      ],
      "outputs": [],
      "execution_count": null,
      "metadata": {
        "jupyter": {
          "outputs_hidden": false,
          "source_hidden": false
        },
        "nteract": {
          "transient": {
            "deleting": false
          }
        },
        "collapsed": false
      }
    },
    {
      "cell_type": "code",
      "source": [
        "spark.conf.set(\"spark.sql.sources.partitionOverwriteMode\",\"dynamic\")\n",
        "product_src_df.write.mode(\"overwrite\").partitionBy(\"OrderDate\").format(\"delta\").save(f'abfss://datalakehouse@synapsedp203dl.dfs.core.windows.net/curated/ProductSales')\n"
      ],
      "outputs": [],
      "execution_count": null,
      "metadata": {
        "jupyter": {
          "outputs_hidden": false,
          "source_hidden": false
        },
        "nteract": {
          "transient": {
            "deleting": false
          }
        }
      }
    },
    {
      "cell_type": "code",
      "source": [
        "%%sql\n",
        "\n",
        "select * from salesdb.productsales where OrderDate = '2024-02-22'"
      ],
      "outputs": [],
      "execution_count": null,
      "metadata": {
        "jupyter": {
          "source_hidden": false,
          "outputs_hidden": false
        },
        "nteract": {
          "transient": {
            "deleting": false
          }
        },
        "microsoft": {
          "language": "sparksql"
        },
        "collapsed": false
      }
    }
  ],
  "metadata": {
    "kernelspec": {
      "name": "synapse_pyspark",
      "display_name": "Synapse PySpark"
    },
    "language_info": {
      "name": "python"
    },
    "description": null,
    "save_output": true,
    "synapse_widget": {
      "version": "0.1",
      "state": {}
    }
  },
  "nbformat": 4,
  "nbformat_minor": 2
}