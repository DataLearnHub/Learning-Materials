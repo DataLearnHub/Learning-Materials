{
  "nbformat": 4,
  "nbformat_minor": 2,
  "metadata": {
    "kernelspec": {
      "name": "synapse_pyspark",
      "display_name": "Synapse PySpark"
    },
    "language_info": {
      "name": "python"
    },
    "description": null,
    "save_output": true,
    "synapse_widget": {
      "version": "0.1",
      "state": {}
    }
  },
  "cells": [
    {
      "cell_type": "code",
      "execution_count": 4,
      "outputs": [],
      "metadata": {},
      "source": [
        "df = spark.read.load('abfss://datalakehouse@synapsedp203dl.dfs.core.windows.net/raw/*.csv', format='csv') "
      ]
    },
    {
      "cell_type": "code",
      "execution_count": 5,
      "outputs": [],
      "metadata": {
        "jupyter": {
          "source_hidden": false,
          "outputs_hidden": false
        },
        "nteract": {
          "transient": {
            "deleting": false
          }
        },
        "collapsed": false
      },
      "source": [
        "display(df)"
      ]
    },
    {
      "cell_type": "code",
      "execution_count": 6,
      "outputs": [],
      "metadata": {
        "jupyter": {
          "source_hidden": false,
          "outputs_hidden": false
        },
        "nteract": {
          "transient": {
            "deleting": false
          }
        }
      },
      "source": [
        "from pyspark.sql.types import *\n",
        "from pyspark.sql.functions import *\n",
        "\n",
        "orderSchema = StructType([\n",
        "    StructField(\"SalesOrderNumber\", StringType()),\n",
        "    StructField(\"SalesOrderLineNumber\", IntegerType()),\n",
        "    StructField(\"OrderDate\", DateType()),\n",
        "    StructField(\"CustomerName\", StringType()),\n",
        "    StructField(\"Email\", StringType()),\n",
        "    StructField(\"Item\", StringType()),\n",
        "    StructField(\"Quantity\", IntegerType()),\n",
        "    StructField(\"UnitPrice\", FloatType()),\n",
        "    StructField(\"Tax\", FloatType())\n",
        "    ])\n",
        "\n",
        "df = spark.read.load('abfss://datalakehouse@synapsedp203dl.dfs.core.windows.net/raw/*.csv', format='csv', schema=orderSchema, header = True)\n",
        "  "
      ]
    },
    {
      "cell_type": "code",
      "execution_count": 7,
      "outputs": [],
      "metadata": {
        "jupyter": {
          "source_hidden": false,
          "outputs_hidden": false
        },
        "nteract": {
          "transient": {
            "deleting": false
          }
        },
        "collapsed": false
      },
      "source": [
        "display(df)"
      ]
    },
    {
      "cell_type": "code",
      "execution_count": 8,
      "outputs": [],
      "metadata": {
        "jupyter": {
          "source_hidden": false,
          "outputs_hidden": false
        },
        "nteract": {
          "transient": {
            "deleting": false
          }
        },
        "collapsed": false
      },
      "source": [
        "customers = df['CustomerName', 'Email', 'OrderDate']\n",
        "display(customers)"
      ]
    },
    {
      "cell_type": "code",
      "execution_count": 9,
      "outputs": [],
      "metadata": {
        "jupyter": {
          "source_hidden": false,
          "outputs_hidden": false
        },
        "nteract": {
          "transient": {
            "deleting": false
          }
        },
        "collapsed": false
      },
      "source": [
        "from pyspark.sql.functions import split, col\n",
        "\n",
        "# Create the new FirstName and LastName fields\n",
        "customer_data_df = customers.withColumn(\"FirstName\", split(col(\"CustomerName\"), \" \").getItem(0)).withColumn(\"LastName\", split(col(\"CustomerName\"), \" \").getItem(1))\n",
        "\n",
        "# Remove the CustomerName field\n",
        "customer_data_df = customer_data_df.drop(\"CustomerName\")\n",
        "\n",
        "display(customer_data_df)"
      ]
    },
    {
      "cell_type": "code",
      "execution_count": 10,
      "outputs": [],
      "metadata": {
        "jupyter": {
          "source_hidden": false,
          "outputs_hidden": false
        },
        "nteract": {
          "transient": {
            "deleting": false
          }
        },
        "collapsed": false
      },
      "source": [
        "customer_data_df = customer_data_df.select('FirstName','LastName','Email', 'OrderDate')\n",
        "display(customer_data_df.limit(10))\n",
        "print(customer_data_df.count())\n",
        "print(customer_data_df.distinct().count())"
      ]
    },
    {
      "cell_type": "code",
      "execution_count": 11,
      "outputs": [],
      "metadata": {
        "jupyter": {
          "source_hidden": false,
          "outputs_hidden": false
        },
        "nteract": {
          "transient": {
            "deleting": false
          }
        },
        "microsoft": {
          "language": "sparksql"
        },
        "collapsed": false
      },
      "source": [
        "%%sql\n",
        "CREATE DATABASE IF NOT EXISTS SALESDB;"
      ]
    },
    {
      "cell_type": "code",
      "execution_count": 12,
      "outputs": [],
      "metadata": {
        "jupyter": {
          "source_hidden": false,
          "outputs_hidden": false
        },
        "nteract": {
          "transient": {
            "deleting": false
          }
        }
      },
      "source": [
        "customer_data_df.write.mode(\"overwrite\").partitionBy(\"OrderDate\").format(\"delta\").option(\"path\", \"abfss://datalakehouse@synapsedp203dl.dfs.core.windows.net/refined/Customers\").save()\n",
        "print (\"Transformed data saved!\")"
      ]
    },
    {
      "cell_type": "code",
      "execution_count": 13,
      "outputs": [],
      "metadata": {
        "jupyter": {
          "source_hidden": false,
          "outputs_hidden": false
        },
        "nteract": {
          "transient": {
            "deleting": false
          }
        }
      },
      "source": [
        "customer_data_df.write.mode(\"overwrite\").partitionBy(\"OrderDate\").format(\"delta\").option(\"path\", \"abfss://datalakehouse@synapsedp203dl.dfs.core.windows.net/curated/Customers\").saveAsTable(\"SALESDB.Customers\")\n",
        "print (\"Transformed data saved!\")"
      ]
    },
    {
      "cell_type": "code",
      "execution_count": 14,
      "outputs": [],
      "metadata": {
        "jupyter": {
          "source_hidden": false,
          "outputs_hidden": false
        },
        "nteract": {
          "transient": {
            "deleting": false
          }
        }
      },
      "source": [
        "df_products = df.select(\"OrderDate\", \"Item\", \"Quantity\", \"UnitPrice\", \"Tax\")"
      ]
    },
    {
      "cell_type": "code",
      "execution_count": 15,
      "outputs": [],
      "metadata": {
        "jupyter": {
          "source_hidden": false,
          "outputs_hidden": false
        },
        "nteract": {
          "transient": {
            "deleting": false
          }
        },
        "collapsed": false
      },
      "source": [
        "productSales = df_products.withColumn(\"GrossSales\", df_products[\"Quantity\"]*df_products[\"UnitPrice\"])\\\n",
        ".withColumn(\"NetSales\",(df_products[\"Quantity\"]*df_products[\"UnitPrice\"]) - df_products[\"Tax\"])\\\n",
        ".groupBy(\"OrderDate\", \"Item\")\\\n",
        ".agg(sum(\"Quantity\").alias(\"TotalQuantity\"),sum(\"GrossSales\").alias(\"Gross_Sales\"), sum(\"NetSales\").alias(\"Net_Sales\"))\n",
        "display(productSales)"
      ]
    },
    {
      "cell_type": "code",
      "execution_count": 16,
      "outputs": [],
      "metadata": {
        "jupyter": {
          "source_hidden": false,
          "outputs_hidden": false
        },
        "nteract": {
          "transient": {
            "deleting": false
          }
        }
      },
      "source": [
        "productSales = productSales.select(\"OrderDate\", \"Item\", \"TotalQuantity\",round(\"Gross_Sales\", 2).alias('Gross_Sales'),round(\"Net_Sales\", 2).alias('Net_Sales'))"
      ]
    },
    {
      "cell_type": "code",
      "execution_count": 17,
      "outputs": [],
      "metadata": {
        "jupyter": {
          "source_hidden": false,
          "outputs_hidden": false
        },
        "nteract": {
          "transient": {
            "deleting": false
          }
        },
        "collapsed": false
      },
      "source": [
        "display(productSales)"
      ]
    },
    {
      "cell_type": "code",
      "execution_count": 18,
      "outputs": [],
      "metadata": {
        "jupyter": {
          "source_hidden": false,
          "outputs_hidden": false
        },
        "nteract": {
          "transient": {
            "deleting": false
          }
        }
      },
      "source": [
        "productSales.write.mode(\"overwrite\").partitionBy(\"OrderDate\").format(\"delta\").option(\"path\", \"abfss://datalakehouse@synapsedp203dl.dfs.core.windows.net/refined/ProductSales\").save()\n",
        "print (\"Transformed data saved!\")"
      ]
    },
    {
      "cell_type": "code",
      "execution_count": 19,
      "outputs": [],
      "metadata": {
        "jupyter": {
          "source_hidden": false,
          "outputs_hidden": false
        },
        "nteract": {
          "transient": {
            "deleting": false
          }
        }
      },
      "source": [
        "productSales.write.mode(\"overwrite\").partitionBy(\"OrderDate\").format(\"delta\").option(\"path\", \"abfss://datalakehouse@synapsedp203dl.dfs.core.windows.net/curated/ProductSales\").saveAsTable(\"SALESDB.ProductSales\")\n",
        "print (\"Transformed data saved!\")"
      ]
    },
    {
      "cell_type": "code",
      "execution_count": 21,
      "outputs": [],
      "metadata": {
        "jupyter": {
          "source_hidden": false,
          "outputs_hidden": false
        },
        "nteract": {
          "transient": {
            "deleting": false
          }
        },
        "collapsed": false
      },
      "source": [
        "path_to_data = 'abfss://datalakehouse@synapsedp203dl.dfs.core.windows.net/refined/ProductSales/OrderDate=2023-12-01'\n",
        "\n",
        "product_data = spark.read.format(\"delta\").load(path_to_data)\n",
        "display(product_data)"
      ]
    },
    {
      "cell_type": "code",
      "execution_count": 22,
      "outputs": [],
      "metadata": {
        "jupyter": {
          "source_hidden": false,
          "outputs_hidden": false
        },
        "nteract": {
          "transient": {
            "deleting": false
          }
        },
        "collapsed": false
      },
      "source": [
        "path_to_data = 'abfss://datalakehouse@synapsedp203dl.dfs.core.windows.net/refined/Customers/OrderDate=2023-12-01'\n",
        "\n",
        "customer_data = spark.read.format(\"delta\").load(path_to_data)\n",
        "display(customer_data)"
      ]
    }
  ]
}